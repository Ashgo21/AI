{
 "cells": [
  {
   "cell_type": "code",
   "execution_count": 143,
   "id": "6b6c5146",
   "metadata": {},
   "outputs": [],
   "source": [
    "def jug_bfs(a,b,goal):\n",
    "    visited = {}\n",
    "    q = []\n",
    "    path = []\n",
    "    ans = False\n",
    "    q.append((0,0))\n",
    "    while q!=[]:\n",
    "        v = q.pop()\n",
    "        if v in visited:\n",
    "            continue\n",
    "        if v[0]>a or v[1]>b or v[0]<0 or v[1]<0:\n",
    "            continue\n",
    "        path.append(v)\n",
    "        visited[v] = 1\n",
    "        if goal == v:\n",
    "            ans = True\n",
    "            return path\n",
    "        if (a,v[1]) not in visited: #fill jug1\n",
    "            q.append((a,v[1]))\n",
    "        if (v[0],b) not in visited: #fill jug2\n",
    "            q.append((v[0],b))\n",
    "        if (v[0],0) not in visited:  #empty jug2\n",
    "            q.append((v[0],0))\n",
    "        if (0,v[1]) not in visited:  #empty jug1\n",
    "            q.append((0,v[1]))\n",
    "        if sum(v)<=a and v[1]>=0:    #empty jug2 into jug1\n",
    "            if (sum(v),0) not in visited:\n",
    "                q.append((sum(v),0))\n",
    "        if sum(v)<=b and v[0]>=0:    #empty jug1 into jug2\n",
    "            if (0,sum(v)) not in visited:\n",
    "                q.append((0,sum(v)))\n",
    "        if sum(v)>=5 and v[1]>=0:    #pour from jug2 untill jug1 is filled\n",
    "            if (a,sum(v)-a) not in visited:\n",
    "                q.append((a,sum(v)-a))\n",
    "        if sum(v)>=3 and v[0]>=0:    #pour from jug1 until jug2 is filled\n",
    "            if (sum(v)-b,b) not in visited:\n",
    "                q.append((sum(v)-b,b))\n",
    "    print(path)\n",
    "    if not ans:\n",
    "        return False"
   ]
  },
  {
   "cell_type": "code",
   "execution_count": 144,
   "id": "7370cffd",
   "metadata": {},
   "outputs": [
    {
     "data": {
      "text/plain": [
       "[(0, 0),\n",
       " (0, 4),\n",
       " (4, 0),\n",
       " (4, 4),\n",
       " (5, 3),\n",
       " (0, 3),\n",
       " (3, 0),\n",
       " (3, 4),\n",
       " (5, 2),\n",
       " (0, 2),\n",
       " (2, 0)]"
      ]
     },
     "execution_count": 144,
     "metadata": {},
     "output_type": "execute_result"
    }
   ],
   "source": [
    "jug_bfs(5,4,(2,0))"
   ]
  },
  {
   "cell_type": "code",
   "execution_count": 147,
   "id": "690494b6",
   "metadata": {},
   "outputs": [],
   "source": [
    "def jug_dfs(a,b,goal):\n",
    "    visited = {}\n",
    "    q = []\n",
    "    path = []\n",
    "    ans = False\n",
    "    q.insert(0,(0,0))\n",
    "    while q!=[]:\n",
    "        print(q)\n",
    "        v = q.pop(0)\n",
    "        if v in visited:\n",
    "            continue\n",
    "        if v[0]>a or v[1]>b or v[0]<0 or v[1]<0:\n",
    "            continue\n",
    "        path.append(v)\n",
    "        visited[v] = 1\n",
    "        if goal == v:\n",
    "            ans = True\n",
    "            return path\n",
    "        if (v[0],b) not in visited: #fill jug2\n",
    "            q.insert(0,(v[0],b))\n",
    "        if (a,v[1]) not in visited: #fill jug1\n",
    "            q.insert(0,(a,v[1]))\n",
    "        if (v[0],0) not in visited:  #empty jug2\n",
    "            q.insert(0,(v[0],0))\n",
    "        if (0,v[1]) not in visited:  #empty jug1\n",
    "            q.insert(0,(0,v[1]))\n",
    "        if sum(v)<=a and v[1]>=0:    #empty jug2 into jug1\n",
    "            if (sum(v),0) not in visited:\n",
    "                q.insert(0,(sum(v),0))\n",
    "        if sum(v)<=b and v[0]>=0:    #empty jug1 into jug2\n",
    "            if (0,sum(v)) not in visited:\n",
    "                q.insert(0,(0,sum(v)))\n",
    "        if sum(v)>=5 and v[1]>=0:    #pour from jug2 untill jug1 is filled\n",
    "            if (a,sum(v)-a) not in visited:\n",
    "                q.insert(0,(a,sum(v)-a))\n",
    "        if sum(v)>=3 and v[0]>=0:    #pour from jug1 until jug2 is filled\n",
    "            if (sum(v)-b,b) not in visited:\n",
    "                q.insert(0,(sum(v)-b,b))\n",
    "    print(path)\n",
    "    if not ans:\n",
    "        return False"
   ]
  },
  {
   "cell_type": "code",
   "execution_count": 148,
   "id": "10be7fcb",
   "metadata": {},
   "outputs": [
    {
     "name": "stdout",
     "output_type": "stream",
     "text": [
      "[(0, 0)]\n",
      "[(5, 0), (0, 4)]\n",
      "[(1, 4), (5, 4), (0, 4)]\n",
      "[(0, 4), (1, 0), (5, 4), (5, 4), (0, 4)]\n",
      "[(4, 0), (5, 4), (1, 0), (5, 4), (5, 4), (0, 4)]\n",
      "[(4, 4), (5, 4), (1, 0), (5, 4), (5, 4), (0, 4)]\n",
      "[(5, 3), (5, 4), (5, 4), (1, 0), (5, 4), (5, 4), (0, 4)]\n",
      "[(0, 3), (5, 4), (5, 4), (5, 4), (1, 0), (5, 4), (5, 4), (0, 4)]\n",
      "[(-1, 4), (3, 0), (5, 4), (5, 4), (5, 4), (1, 0), (5, 4), (5, 4), (0, 4)]\n",
      "[(3, 0), (5, 4), (5, 4), (5, 4), (1, 0), (5, 4), (5, 4), (0, 4)]\n",
      "[(-1, 4), (3, 4), (5, 4), (5, 4), (5, 4), (1, 0), (5, 4), (5, 4), (0, 4)]\n",
      "[(3, 4), (5, 4), (5, 4), (5, 4), (1, 0), (5, 4), (5, 4), (0, 4)]\n",
      "[(5, 2), (5, 4), (5, 4), (5, 4), (5, 4), (1, 0), (5, 4), (5, 4), (0, 4)]\n",
      "[(0, 2), (5, 4), (5, 4), (5, 4), (5, 4), (5, 4), (1, 0), (5, 4), (5, 4), (0, 4)]\n",
      "[(2, 0), (5, 4), (5, 4), (5, 4), (5, 4), (5, 4), (1, 0), (5, 4), (5, 4), (0, 4)]\n"
     ]
    },
    {
     "data": {
      "text/plain": [
       "[(0, 0),\n",
       " (5, 0),\n",
       " (1, 4),\n",
       " (0, 4),\n",
       " (4, 0),\n",
       " (4, 4),\n",
       " (5, 3),\n",
       " (0, 3),\n",
       " (3, 0),\n",
       " (3, 4),\n",
       " (5, 2),\n",
       " (0, 2),\n",
       " (2, 0)]"
      ]
     },
     "execution_count": 148,
     "metadata": {},
     "output_type": "execute_result"
    }
   ],
   "source": [
    "jug_dfs(5,4,(2,0))"
   ]
  },
  {
   "cell_type": "code",
   "execution_count": 155,
   "id": "4b2ec130",
   "metadata": {},
   "outputs": [],
   "source": [
    "class Jug:\n",
    "    def __init__(self,a,b):\n",
    "        self.a = a\n",
    "        self.b = b\n",
    "    \n",
    "    def bfs(self,goal):\n",
    "        a = self.a\n",
    "        b = self.b\n",
    "        visited = {}\n",
    "        q = []\n",
    "        path = []\n",
    "        ans = False\n",
    "        q.append((0,0))\n",
    "        while q!=[]:\n",
    "            v = q.pop()\n",
    "            if v in visited:\n",
    "                continue\n",
    "            if v[0]>a or v[1]>b or v[0]<0 or v[1]<0:\n",
    "                continue\n",
    "            path.append(v)\n",
    "            visited[v] = 1\n",
    "            if goal == v:\n",
    "                ans = True\n",
    "                return path\n",
    "            if (a,v[1]) not in visited: #fill jug1\n",
    "                q.append((a,v[1]))\n",
    "            if (v[0],b) not in visited: #fill jug2\n",
    "                q.append((v[0],b))\n",
    "            if (v[0],0) not in visited:  #empty jug2\n",
    "                q.append((v[0],0))\n",
    "            if (0,v[1]) not in visited:  #empty jug1\n",
    "                q.append((0,v[1]))\n",
    "            if sum(v)<=a and v[1]>=0:    #empty jug2 into jug1\n",
    "                if (sum(v),0) not in visited:\n",
    "                    q.append((sum(v),0))\n",
    "            if sum(v)<=b and v[0]>=0:    #empty jug1 into jug2\n",
    "                if (0,sum(v)) not in visited:\n",
    "                    q.append((0,sum(v)))\n",
    "            if sum(v)>=5 and v[1]>=0:    #pour from jug2 untill jug1 is filled\n",
    "                if (a,sum(v)-a) not in visited:\n",
    "                    q.append((a,sum(v)-a))\n",
    "            if sum(v)>=3 and v[0]>=0:    #pour from jug1 until jug2 is filled\n",
    "                if (sum(v)-b,b) not in visited:\n",
    "                    q.append((sum(v)-b,b))\n",
    "        print(path)\n",
    "        if not ans:\n",
    "            return False"
   ]
  },
  {
   "cell_type": "code",
   "execution_count": 156,
   "id": "4f63d6ec",
   "metadata": {},
   "outputs": [
    {
     "data": {
      "text/plain": [
       "[(0, 0),\n",
       " (0, 3),\n",
       " (3, 0),\n",
       " (3, 3),\n",
       " (5, 1),\n",
       " (0, 1),\n",
       " (1, 0),\n",
       " (1, 3),\n",
       " (4, 0),\n",
       " (4, 3),\n",
       " (5, 2),\n",
       " (0, 2),\n",
       " (2, 0)]"
      ]
     },
     "execution_count": 156,
     "metadata": {},
     "output_type": "execute_result"
    }
   ],
   "source": [
    "j = Jug(5,3)\n",
    "t =(2,0)\n",
    "j.bfs(t)"
   ]
  },
  {
   "cell_type": "code",
   "execution_count": null,
   "id": "99e0805b",
   "metadata": {},
   "outputs": [],
   "source": []
  },
  {
   "cell_type": "code",
   "execution_count": null,
   "id": "f64c6b18",
   "metadata": {},
   "outputs": [],
   "source": []
  },
  {
   "cell_type": "code",
   "execution_count": null,
   "id": "be1eaaeb",
   "metadata": {},
   "outputs": [],
   "source": []
  },
  {
   "cell_type": "code",
   "execution_count": null,
   "id": "d1a0b6cb",
   "metadata": {},
   "outputs": [],
   "source": []
  },
  {
   "cell_type": "code",
   "execution_count": null,
   "id": "2af490fc",
   "metadata": {},
   "outputs": [],
   "source": []
  },
  {
   "cell_type": "code",
   "execution_count": null,
   "id": "117f6106",
   "metadata": {},
   "outputs": [],
   "source": []
  },
  {
   "cell_type": "code",
   "execution_count": null,
   "id": "6a18cf7e",
   "metadata": {},
   "outputs": [],
   "source": []
  },
  {
   "cell_type": "code",
   "execution_count": null,
   "id": "f5fc7df8",
   "metadata": {},
   "outputs": [],
   "source": []
  },
  {
   "cell_type": "code",
   "execution_count": null,
   "id": "acdffe51",
   "metadata": {},
   "outputs": [],
   "source": []
  },
  {
   "cell_type": "code",
   "execution_count": null,
   "id": "2347d5b6",
   "metadata": {},
   "outputs": [],
   "source": []
  },
  {
   "cell_type": "code",
   "execution_count": null,
   "id": "eaba76c9",
   "metadata": {},
   "outputs": [],
   "source": []
  },
  {
   "cell_type": "code",
   "execution_count": null,
   "id": "48582777",
   "metadata": {},
   "outputs": [],
   "source": []
  },
  {
   "cell_type": "code",
   "execution_count": null,
   "id": "229acbc6",
   "metadata": {},
   "outputs": [],
   "source": []
  },
  {
   "cell_type": "code",
   "execution_count": null,
   "id": "9369f34c",
   "metadata": {},
   "outputs": [],
   "source": []
  }
 ],
 "metadata": {
  "kernelspec": {
   "display_name": "Python 3 (ipykernel)",
   "language": "python",
   "name": "python3"
  },
  "language_info": {
   "codemirror_mode": {
    "name": "ipython",
    "version": 3
   },
   "file_extension": ".py",
   "mimetype": "text/x-python",
   "name": "python",
   "nbconvert_exporter": "python",
   "pygments_lexer": "ipython3",
   "version": "3.9.7"
  }
 },
 "nbformat": 4,
 "nbformat_minor": 5
}
