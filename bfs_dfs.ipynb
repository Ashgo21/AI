{
 "cells": [
  {
   "cell_type": "code",
   "execution_count": 40,
   "metadata": {},
   "outputs": [],
   "source": [
    "class Graph:\n",
    "    def __init__(self,d={}):\n",
    "        self.graph = d\n",
    "        \n",
    "    def addEdge(self,u,v):\n",
    "        if u in self.graph:\n",
    "            self.graph[u].append(v)\n",
    "        else:\n",
    "            self.graph[u] = v\n",
    "    \n",
    "    def bfs(self,r,g):\n",
    "        o,c = [],[]\n",
    "        o.append(r)\n",
    "        while o!=[]:\n",
    "            print('open: ',o,'close: ',c)\n",
    "            v = o.pop(0)\n",
    "            if v==g:\n",
    "                print('goal state found')\n",
    "                break\n",
    "            c.append(v)\n",
    "            for i in self.graph[v]:\n",
    "                if i not in o:\n",
    "                    o.append(i)\n",
    "    \n",
    "    def dfs(self,r,g):\n",
    "        o,c = [],[]\n",
    "        o.append(r)\n",
    "        while o!=[]:\n",
    "            print('open: ',o,'close: ',c)\n",
    "            v = o.pop(0)\n",
    "            if v==g:\n",
    "                print('goal state found')\n",
    "                break\n",
    "            c.append(v)\n",
    "            for i in self.graph[v][::-1]:\n",
    "                if i not in o:\n",
    "                    o = [i]+o\n",
    "                    \n",
    "    def Print(self):\n",
    "        return self.graph"
   ]
  },
  {
   "cell_type": "code",
   "execution_count": 33,
   "metadata": {},
   "outputs": [
    {
     "data": {
      "text/plain": [
       "{1: [2, 3], 2: [3, 4, 5], 3: [6]}"
      ]
     },
     "execution_count": 33,
     "metadata": {},
     "output_type": "execute_result"
    }
   ],
   "source": [
    "g = Graph()\n",
    "g.addEdge(1,[2,3])\n",
    "g.addEdge(2,[3,4,5])\n",
    "g.addEdge(3,[6])\n",
    "g.Print()"
   ]
  },
  {
   "cell_type": "code",
   "execution_count": 34,
   "metadata": {},
   "outputs": [
    {
     "name": "stdout",
     "output_type": "stream",
     "text": [
      "open:  [1] close:  []\n",
      "open:  [2, 3] close:  [1]\n",
      "open:  [3, 4, 5] close:  [1, 2]\n",
      "open:  [4, 5, 6] close:  [1, 2, 3]\n",
      "goal state found\n"
     ]
    }
   ],
   "source": [
    "g.bfs(1,4)"
   ]
  },
  {
   "cell_type": "code",
   "execution_count": 39,
   "metadata": {},
   "outputs": [
    {
     "name": "stdout",
     "output_type": "stream",
     "text": [
      "open:  [1] close:  []\n",
      "open:  [3, 2] close:  [1]\n",
      "goal state found\n"
     ]
    }
   ],
   "source": [
    "g.dfs(1,3)"
   ]
  },
  {
   "cell_type": "code",
   "execution_count": null,
   "metadata": {},
   "outputs": [],
   "source": []
  },
  {
   "cell_type": "code",
   "execution_count": null,
   "metadata": {},
   "outputs": [],
   "source": []
  },
  {
   "cell_type": "code",
   "execution_count": null,
   "metadata": {},
   "outputs": [],
   "source": []
  },
  {
   "cell_type": "code",
   "execution_count": null,
   "metadata": {},
   "outputs": [],
   "source": []
  },
  {
   "cell_type": "code",
   "execution_count": null,
   "metadata": {},
   "outputs": [],
   "source": []
  },
  {
   "cell_type": "code",
   "execution_count": null,
   "metadata": {},
   "outputs": [],
   "source": []
  },
  {
   "cell_type": "code",
   "execution_count": null,
   "metadata": {},
   "outputs": [],
   "source": []
  },
  {
   "cell_type": "code",
   "execution_count": null,
   "metadata": {},
   "outputs": [],
   "source": []
  },
  {
   "cell_type": "code",
   "execution_count": null,
   "metadata": {},
   "outputs": [],
   "source": []
  },
  {
   "cell_type": "code",
   "execution_count": null,
   "metadata": {},
   "outputs": [],
   "source": []
  },
  {
   "cell_type": "code",
   "execution_count": null,
   "metadata": {},
   "outputs": [],
   "source": []
  },
  {
   "cell_type": "code",
   "execution_count": null,
   "metadata": {},
   "outputs": [],
   "source": []
  },
  {
   "cell_type": "code",
   "execution_count": null,
   "metadata": {},
   "outputs": [],
   "source": []
  },
  {
   "cell_type": "code",
   "execution_count": null,
   "metadata": {},
   "outputs": [],
   "source": []
  },
  {
   "cell_type": "code",
   "execution_count": null,
   "metadata": {},
   "outputs": [],
   "source": []
  },
  {
   "cell_type": "code",
   "execution_count": null,
   "metadata": {},
   "outputs": [],
   "source": []
  },
  {
   "cell_type": "code",
   "execution_count": null,
   "metadata": {},
   "outputs": [],
   "source": []
  }
 ],
 "metadata": {
  "kernelspec": {
   "display_name": "Python 3",
   "language": "python",
   "name": "python3"
  },
  "language_info": {
   "codemirror_mode": {
    "name": "ipython",
    "version": 3
   },
   "file_extension": ".py",
   "mimetype": "text/x-python",
   "name": "python",
   "nbconvert_exporter": "python",
   "pygments_lexer": "ipython3",
   "version": "3.9.5"
  },
  "orig_nbformat": 4
 },
 "nbformat": 4,
 "nbformat_minor": 2
}
