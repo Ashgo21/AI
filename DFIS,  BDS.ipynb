{
 "cells": [
  {
   "cell_type": "markdown",
   "id": "7d33203a",
   "metadata": {},
   "source": [
    "<h1>depth first iterative"
   ]
  },
  {
   "cell_type": "code",
   "execution_count": 4,
   "id": "3d694ec4",
   "metadata": {},
   "outputs": [
    {
     "name": "stdout",
     "output_type": "stream",
     "text": [
      "{1: [2, 3], 2: [4, 5], 3: [6, 7], 4: [8, 9], 5: [10, 11]}\n"
     ]
    }
   ],
   "source": [
    "graph = {1:[2, 3], 2:[4, 5], 3:[6, 7], 4:[8, 9], 5:[10, 11]}\n",
    "print(graph)"
   ]
  },
  {
   "cell_type": "code",
   "execution_count": 52,
   "id": "2d09f51b",
   "metadata": {},
   "outputs": [],
   "source": [
    "def dfis(g,root,target,depth):\n",
    "    for i in range(depth):\n",
    "        print(i+1,'th iteration')\n",
    "        if dFs(g,root,target,i):\n",
    "            return True\n",
    "    return False"
   ]
  },
  {
   "cell_type": "code",
   "execution_count": 54,
   "id": "ea4c224c",
   "metadata": {},
   "outputs": [
    {
     "name": "stdout",
     "output_type": "stream",
     "text": [
      "1 th iteration\n",
      "1\n",
      "2 th iteration\n",
      "1\n",
      "2\n",
      "3\n",
      "3 th iteration\n",
      "1\n",
      "2\n",
      "4\n",
      "5\n",
      "3\n",
      "6\n",
      "7\n"
     ]
    },
    {
     "data": {
      "text/plain": [
       "False"
      ]
     },
     "execution_count": 54,
     "metadata": {},
     "output_type": "execute_result"
    }
   ],
   "source": [
    "def dFs(g,root,target,depth):\n",
    "    if root==target:\n",
    "        return True\n",
    "    print(root)\n",
    "    if depth<=0:\n",
    "        return False\n",
    "    for i in g[root]:\n",
    "        if dls(g,i,target,depth-1):\n",
    "            return True\n",
    "    return False\n",
    "\n",
    "dfis(graph,1,8,3)"
   ]
  },
  {
   "cell_type": "markdown",
   "id": "82f41c32",
   "metadata": {},
   "source": [
    "# bi directional"
   ]
  },
  {
   "cell_type": "code",
   "execution_count": 65,
   "id": "490bc647",
   "metadata": {
    "scrolled": true
   },
   "outputs": [
    {
     "data": {
      "text/plain": [
       "{0: [4],\n",
       " 4: [0, 1, 6],\n",
       " 1: [4],\n",
       " 2: [5],\n",
       " 3: [5],\n",
       " 5: [2, 3, 6],\n",
       " 6: [4, 5, 7],\n",
       " 7: [6, 8],\n",
       " 8: [7, 9, 10],\n",
       " 9: [8, 11, 12],\n",
       " 10: [8, 13, 14],\n",
       " 11: [9],\n",
       " 12: [9],\n",
       " 13: [10],\n",
       " 14: [10]}"
      ]
     },
     "execution_count": 65,
     "metadata": {},
     "output_type": "execute_result"
    }
   ],
   "source": [
    "graph = {0:[4],4:[0,1,6],1:[4],2:[5],3:[5],5:[2,3,6],6:[4,5,7],7:[6,8],8:[7,9,10],\n",
    "         9:[8,11,12],10:[8,13,14],11:[9],12:[9],13:[10],14:[10]}\n",
    "graph"
   ]
  },
  {
   "cell_type": "code",
   "execution_count": 68,
   "id": "195cf738",
   "metadata": {},
   "outputs": [],
   "source": [
    "def bds(g,root,target):\n",
    "    path = []\n",
    "    open1, open2 = [], []\n",
    "    close1, close2 = [], []\n",
    "    open1.append(root)\n",
    "    open2.append(target)\n",
    "    while True:\n",
    "        print(open1,open2)\n",
    "        t1 = open1.pop(0)\n",
    "        t2 = open2.pop(0)\n",
    "        close1.append(t1)\n",
    "        close2.append(t2)\n",
    "        if t1 in close2 or t2 in close1:\n",
    "            print('true')\n",
    "            break;\n",
    "        for j in g[t1]:\n",
    "            if j not in close1:\n",
    "                open1.append(j)\n",
    "        for i in g[t2]:\n",
    "            if i not in close2:\n",
    "                open2.append(i)\n",
    "    return close1,close2"
   ]
  },
  {
   "cell_type": "code",
   "execution_count": 69,
   "id": "fe87861e",
   "metadata": {},
   "outputs": [
    {
     "name": "stdout",
     "output_type": "stream",
     "text": [
      "[1] [9]\n",
      "[4] [8, 11, 12]\n",
      "[0, 6] [11, 12, 7, 10]\n",
      "[6] [12, 7, 10]\n",
      "[5, 7] [7, 10]\n",
      "[7, 2, 3] [10, 6]\n",
      "true\n"
     ]
    },
    {
     "data": {
      "text/plain": [
       "([1, 4, 0, 6, 5, 7], [9, 8, 11, 12, 7, 10])"
      ]
     },
     "execution_count": 69,
     "metadata": {},
     "output_type": "execute_result"
    }
   ],
   "source": [
    "bds(graph,1,9)"
   ]
  },
  {
   "cell_type": "code",
   "execution_count": null,
   "id": "ce421c0e",
   "metadata": {},
   "outputs": [],
   "source": []
  },
  {
   "cell_type": "code",
   "execution_count": null,
   "id": "87c918ad",
   "metadata": {},
   "outputs": [],
   "source": []
  },
  {
   "cell_type": "code",
   "execution_count": null,
   "id": "248b5b6a",
   "metadata": {},
   "outputs": [],
   "source": []
  },
  {
   "cell_type": "code",
   "execution_count": null,
   "id": "ef6ac605",
   "metadata": {},
   "outputs": [],
   "source": []
  },
  {
   "cell_type": "code",
   "execution_count": null,
   "id": "8cc133ac",
   "metadata": {},
   "outputs": [],
   "source": []
  },
  {
   "cell_type": "code",
   "execution_count": null,
   "id": "af169fdb",
   "metadata": {},
   "outputs": [],
   "source": []
  },
  {
   "cell_type": "code",
   "execution_count": null,
   "id": "63112192",
   "metadata": {},
   "outputs": [],
   "source": []
  },
  {
   "cell_type": "code",
   "execution_count": null,
   "id": "2f57d3a4",
   "metadata": {},
   "outputs": [],
   "source": []
  },
  {
   "cell_type": "code",
   "execution_count": null,
   "id": "38c75a46",
   "metadata": {},
   "outputs": [],
   "source": []
  },
  {
   "cell_type": "code",
   "execution_count": null,
   "id": "17a44108",
   "metadata": {},
   "outputs": [],
   "source": []
  },
  {
   "cell_type": "code",
   "execution_count": null,
   "id": "57b72b23",
   "metadata": {},
   "outputs": [],
   "source": []
  },
  {
   "cell_type": "code",
   "execution_count": null,
   "id": "9fa42b47",
   "metadata": {},
   "outputs": [],
   "source": []
  },
  {
   "cell_type": "code",
   "execution_count": null,
   "id": "1b56ba38",
   "metadata": {},
   "outputs": [],
   "source": []
  },
  {
   "cell_type": "code",
   "execution_count": null,
   "id": "d89eba51",
   "metadata": {},
   "outputs": [],
   "source": []
  },
  {
   "cell_type": "code",
   "execution_count": null,
   "id": "072e2942",
   "metadata": {},
   "outputs": [],
   "source": []
  },
  {
   "cell_type": "code",
   "execution_count": null,
   "id": "b779c5cd",
   "metadata": {},
   "outputs": [],
   "source": []
  },
  {
   "cell_type": "code",
   "execution_count": null,
   "id": "aadf73ee",
   "metadata": {},
   "outputs": [],
   "source": []
  },
  {
   "cell_type": "code",
   "execution_count": null,
   "id": "b3fe7bb7",
   "metadata": {},
   "outputs": [],
   "source": []
  },
  {
   "cell_type": "code",
   "execution_count": null,
   "id": "7a4aa357",
   "metadata": {},
   "outputs": [],
   "source": []
  },
  {
   "cell_type": "code",
   "execution_count": null,
   "id": "bbf8f919",
   "metadata": {},
   "outputs": [],
   "source": []
  },
  {
   "cell_type": "code",
   "execution_count": null,
   "id": "01311c00",
   "metadata": {},
   "outputs": [],
   "source": []
  },
  {
   "cell_type": "code",
   "execution_count": null,
   "id": "e746a9b6",
   "metadata": {},
   "outputs": [],
   "source": []
  }
 ],
 "metadata": {
  "kernelspec": {
   "display_name": "Python 3 (ipykernel)",
   "language": "python",
   "name": "python3"
  },
  "language_info": {
   "codemirror_mode": {
    "name": "ipython",
    "version": 3
   },
   "file_extension": ".py",
   "mimetype": "text/x-python",
   "name": "python",
   "nbconvert_exporter": "python",
   "pygments_lexer": "ipython3",
   "version": "3.9.7"
  }
 },
 "nbformat": 4,
 "nbformat_minor": 5
}
