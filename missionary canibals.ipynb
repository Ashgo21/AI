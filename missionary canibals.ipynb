{
 "cells": [
  {
   "cell_type": "code",
   "execution_count": null,
   "id": "ec3efb13",
   "metadata": {},
   "outputs": [],
   "source": [
    "import time"
   ]
  },
  {
   "cell_type": "code",
   "execution_count": 5,
   "id": "9b1a328d",
   "metadata": {},
   "outputs": [
    {
     "name": "stdout",
     "output_type": "stream",
     "text": [
      "[[[2, 2, 0], [1, 1, 1]], [[3, 1, 0], [0, 2, 1]], [[3, 2, 0], [0, 1, 1]]]\n",
      "[[[3, 1, 0], [0, 2, 1]], [[3, 2, 0], [0, 1, 1]], [[3, 2, 1], [0, 2, 0]]]\n",
      "[[[3, 2, 0], [0, 1, 1]], [[3, 2, 1], [0, 2, 0]], [[3, 2, 1], [0, 1, 0]]]\n",
      "[[[3, 2, 1], [0, 2, 0]], [[3, 2, 1], [0, 1, 0]]]\n",
      "[[[3, 2, 1], [0, 1, 0]], [[3, 0, 0], [0, 4, 1]], [[3, 1, 0], [0, 3, 1]]]\n",
      "[[[3, 0, 0], [0, 4, 1]], [[3, 1, 0], [0, 3, 1]], [[2, 2, 0], [1, 2, 1]], [[3, 0, 0], [0, 3, 1]]]\n",
      "[[[3, 1, 0], [0, 3, 1]], [[2, 2, 0], [1, 2, 1]], [[3, 0, 0], [0, 3, 1]], [[3, 1, 1], [0, 3, 0]]]\n",
      "[[[2, 2, 0], [1, 2, 1]], [[3, 0, 0], [0, 3, 1]], [[3, 1, 1], [0, 3, 0]]]\n",
      "[[[3, 0, 0], [0, 3, 1]], [[3, 1, 1], [0, 3, 0]]]\n",
      "[[[3, 1, 1], [0, 3, 0]], [[3, 1, 1], [0, 2, 0]]]\n",
      "[[[3, 1, 1], [0, 2, 0]]]\n",
      "[[[1, 1, 0], [2, 2, 1]]]\n",
      "[[[2, 2, 1], [1, 1, 0]]]\n",
      "[[[0, 2, 0], [3, 1, 1]]]\n",
      "[[[0, 3, 1], [3, 0, 0]]]\n",
      "[[[0, 1, 0], [3, 2, 1]]]\n",
      "[[[1, 1, 1], [2, 1, 0]], [[0, 2, 1], [3, 1, 0]]]\n",
      "[[[0, 2, 1], [3, 1, 0]], [[0, 1, 0], [3, 1, 1]], [[0, 0, 0], [3, 2, 1]], [[1, 0, 0], [2, 2, 1]]]\n",
      "[[[0, 1, 0], [3, 1, 1]], [[0, 0, 0], [3, 2, 1]], [[1, 0, 0], [2, 2, 1]], [[0, 0, 0], [3, 3, 1]]]\n"
     ]
    }
   ],
   "source": [
    "def mc_dfs(m,c):\n",
    "    q = []\n",
    "    visited = []\n",
    "    l = [m,c,1]\n",
    "    r = [0,0,0]\n",
    "    q.append([l,r])\n",
    "    while [[0,0,0],[m,c,1]] not in q:\n",
    "        t = q.pop(0)\n",
    "        m1,c1,bl = t[0]\n",
    "        m2,c2,br = t[1]\n",
    "        pos = []\n",
    "        if bl==1:               #if boat is on the left side\n",
    "            if m1>=2 and (m1-2>=c1 or m1-2==0) and m2+2>=c2:#take 2 missionaries\n",
    "                l = [m1-2,c1,0]\n",
    "                r = [m2+2,c2,1]\n",
    "                pos.append([l,r])\n",
    "            if m1>=1 and (m1-1>=c1 or m1-1==0) and m2+1>=c2: #take only 1 missionary\n",
    "                l = [m1-1,c1,0]\n",
    "                r = [m2+1,c1,1]\n",
    "                pos.append([l,r])\n",
    "            if m1>=1 and c1>=1 and m1-1>=c1-1 and m2+1>=c2+1:#take 1 missionary 1 cannibal\n",
    "                l = [m1-1,c1-1,0]\n",
    "                r = [m2+1,c2+1,1]\n",
    "                pos.append([l,r])\n",
    "            if c1>=2 and (m2>=c2+2 or m2==0):  #take 2 cannibals\n",
    "                l = [m1,c1-2,0]\n",
    "                r = [m2,c2+2,1]\n",
    "                pos.append([l,r])\n",
    "            if c1>=1 and (m2>=c2+1 or m2==0):   #take 1 cannibal\n",
    "                l = [m1,c1-1,0]\n",
    "                r = [m2,c2+1,1]\n",
    "                pos.append([l,r])\n",
    "        elif br==1:                              #when boat is on right side\n",
    "            if m2>=2 and (m2-2>=c2 or m2-2==0) and m1+2>=c1:  #take 2 missionaries\n",
    "                l = [m1+2,c1,1]\n",
    "                r = [m2-2,c2,0]\n",
    "                pos.append([l,r])\n",
    "            if m2>=1 and (m2-1>=c2 or m2-1==0) and m1+1>=c1:  #take 1 missionary\n",
    "                l = [m1+1,c1,1]\n",
    "                r = [m2-1,c1,0]\n",
    "                pos.append([l,r])\n",
    "            if m2>=1 and c2>=1 and m2-1>=c2-1 and m1+1>=c1+1:  #take 1 missionary and 1 cannibal\n",
    "                l = [m1+1,c1+1,1]\n",
    "                r = [m2-1,c2-1,0]\n",
    "                pos.append([l,r])\n",
    "            if c2>=2 and ((m2>=c2-2 and m1>=c1+2) or m1==0):  #take 2 cannibals\n",
    "                l = [m1,c1+2,1]\n",
    "                r = [m2,c2-2,0]\n",
    "                pos.append([l,r])\n",
    "            if c2>=1 and (m1>=c1+1 or m1==0):   #take 1 cannibal\n",
    "                l = [m1,c1+1,1]\n",
    "                r = [m2,c2-1,0]\n",
    "                pos.append([l,r])\n",
    "        visited.append(t)\n",
    "        for i in visited+q:\n",
    "            if i in pos:\n",
    "                pos.remove(i)\n",
    "        q.extend(pos)\n",
    "        print(q)\n",
    "        \n",
    "mc_dfs(3,3)"
   ]
  },
  {
   "cell_type": "code",
   "execution_count": 7,
   "id": "45e77c3a",
   "metadata": {},
   "outputs": [
    {
     "name": "stdout",
     "output_type": "stream",
     "text": [
      "Enter no.of Missionaries : 3\n",
      "Enter no.of Cannibals : 3\n"
     ]
    }
   ],
   "source": [
    "M = int(input(\"Enter no.of Missionaries : \"))\n",
    "C = int(input(\"Enter no.of Cannibals : \"))"
   ]
  },
  {
   "cell_type": "code",
   "execution_count": 8,
   "id": "f2babbc9",
   "metadata": {},
   "outputs": [
    {
     "name": "stdout",
     "output_type": "stream",
     "text": [
      "[[[2, 2, 0], [1, 1, 1]], [[3, 1, 0], [0, 2, 1]], [[3, 2, 0], [0, 1, 1]]]\n",
      "[[[3, 1, 0], [0, 2, 1]], [[3, 2, 0], [0, 1, 1]], [[3, 2, 1], [0, 1, 0]]]\n",
      "[[[3, 2, 0], [0, 1, 1]], [[3, 2, 1], [0, 1, 0]]]\n",
      "[[[3, 2, 1], [0, 1, 0]]]\n",
      "[[[3, 0, 0], [0, 3, 1]]]\n",
      "[[[3, 1, 1], [0, 2, 0]]]\n",
      "[[[1, 1, 0], [2, 2, 1]]]\n",
      "[[[2, 2, 1], [1, 1, 0]]]\n",
      "[[[0, 2, 0], [3, 1, 1]]]\n",
      "[[[0, 3, 1], [3, 0, 0]]]\n",
      "[[[0, 1, 0], [3, 2, 1]]]\n",
      "[[[1, 1, 1], [2, 2, 0]], [[0, 2, 1], [3, 1, 0]]]\n",
      "[[[0, 2, 1], [3, 1, 0]], [[0, 0, 0], [3, 3, 1]]]\n"
     ]
    }
   ],
   "source": [
    "root = [[M, C, 1], [0, 0, 0]]\n",
    "goal = [[0, 0, 0], [M, C, 1]]\n",
    "\n",
    "def Missionaries_and_Cannibals_BFS(r, g, m, c):\n",
    "    open = []\n",
    "    closed = []\n",
    "    open.append(r)\n",
    "    graph = {}\n",
    "    while g not in open:\n",
    "        x = open.pop(0)\n",
    "        m1, c1, m2, c2 = x[0][0], x[0][1], x[1][0], x[1][1]\n",
    "        pos = []\n",
    "        if x[0][2]==1: # boat is on left side\n",
    "            if m1>=2 and (m1-2>=c1 or m1-2==0) and m2+2>=c2:\n",
    "                pos.append([[m1-2, c1, 0], [m2+2, c2, 1]])\n",
    "            if m1>=1 and c1>=1 and m1-1>=c1-1 and m2+1>=c2+1:\n",
    "                pos.append([[m1-1, c1-1, 0], [m2+1, c2+1, 1]])\n",
    "            if c1>=2 and (m2>=c2+2 or m2==0):\n",
    "                pos.append([[m1, c1-2, 0], [m2, c2+2, 1]])\n",
    "            if m1>=1 and (m1-1>=c1 or m1-1==0) and m2+1>=c2:\n",
    "                pos.append([[m1-1, c1, 0], [m2+1, c2, 1]])\n",
    "            if c1>=1 and (m2>=c2+1 or m2==0):\n",
    "                pos.append([[m1, c1-1, 0], [m2, c2+1, 1]])\n",
    "        \n",
    "\n",
    "        elif x[1][2] == 1: # boat is on right side\n",
    "            if m2>=2 and m1+2 >= c1 and (m2-2 >= c2 or m2-2==0):\n",
    "                pos.append([[m1+2, c1, 1], [m2-2, c2, 0]])\n",
    "            if m2>=1 and c2>=1 and m1+1 >= c1+1 and m2-1 >= c2-1:\n",
    "                pos.append([[m1+1, c1+1, 1], [m2-1, c2-1, 0]])\n",
    "            if c2>=2 and ((m1 >= c1+2 and m2>=c2-2) or m1==0):\n",
    "                pos.append([[m1, c1+2, 1], [m2, c2-2, 0]])\n",
    "            if m2>=1 and m1+1 >= c1 and (m2-1 >= c2 or m2-1==0):\n",
    "                pos.append([[m1+1, c1, 1], [m2-1, c2, 0]])\n",
    "            if c2>=1 and (m1 >= c1+1 or m1==0):\n",
    "                pos.append([[m1, c1+1, 1], [m2, c2-1, 0]])\n",
    "        closed.append(x)\n",
    "        for i in closed+open:\n",
    "            if i in pos:\n",
    "                pos.remove(i)\n",
    "        graph[str(x)] = pos\n",
    "        open.extend(pos)\n",
    "        print(open)\n",
    "    return graph\n",
    "\n",
    "graph = Missionaries_and_Cannibals_BFS(root, goal, M, C)"
   ]
  },
  {
   "cell_type": "code",
   "execution_count": null,
   "id": "49ddedb0",
   "metadata": {},
   "outputs": [],
   "source": [
    "q = []\n",
    "l = [1,1,1]\n",
    "r = [0,0,0]\n",
    "q.append((l,r))\n",
    "q"
   ]
  },
  {
   "cell_type": "code",
   "execution_count": null,
   "id": "51d45964",
   "metadata": {},
   "outputs": [],
   "source": [
    "mc_dfs(3,3)"
   ]
  },
  {
   "cell_type": "code",
   "execution_count": null,
   "id": "fc0fd947",
   "metadata": {},
   "outputs": [],
   "source": [
    "open"
   ]
  },
  {
   "cell_type": "code",
   "execution_count": null,
   "id": "84401436",
   "metadata": {},
   "outputs": [],
   "source": []
  },
  {
   "cell_type": "code",
   "execution_count": null,
   "id": "fe74f255",
   "metadata": {},
   "outputs": [],
   "source": []
  },
  {
   "cell_type": "code",
   "execution_count": null,
   "id": "04c74358",
   "metadata": {},
   "outputs": [],
   "source": []
  },
  {
   "cell_type": "code",
   "execution_count": null,
   "id": "03736f63",
   "metadata": {},
   "outputs": [],
   "source": []
  },
  {
   "cell_type": "code",
   "execution_count": null,
   "id": "5599073a",
   "metadata": {},
   "outputs": [],
   "source": []
  },
  {
   "cell_type": "code",
   "execution_count": null,
   "id": "6d4eb716",
   "metadata": {},
   "outputs": [],
   "source": []
  },
  {
   "cell_type": "code",
   "execution_count": null,
   "id": "e946c325",
   "metadata": {},
   "outputs": [],
   "source": []
  },
  {
   "cell_type": "code",
   "execution_count": null,
   "id": "d52d9108",
   "metadata": {},
   "outputs": [],
   "source": []
  },
  {
   "cell_type": "code",
   "execution_count": null,
   "id": "2567ebcf",
   "metadata": {},
   "outputs": [],
   "source": []
  },
  {
   "cell_type": "code",
   "execution_count": null,
   "id": "56ce9ddb",
   "metadata": {},
   "outputs": [],
   "source": []
  },
  {
   "cell_type": "code",
   "execution_count": null,
   "id": "a7ad782d",
   "metadata": {},
   "outputs": [],
   "source": []
  },
  {
   "cell_type": "code",
   "execution_count": null,
   "id": "7b9f8356",
   "metadata": {},
   "outputs": [],
   "source": []
  },
  {
   "cell_type": "code",
   "execution_count": null,
   "id": "9578fb79",
   "metadata": {},
   "outputs": [],
   "source": []
  },
  {
   "cell_type": "code",
   "execution_count": null,
   "id": "d3367943",
   "metadata": {},
   "outputs": [],
   "source": []
  },
  {
   "cell_type": "code",
   "execution_count": null,
   "id": "f3169ce5",
   "metadata": {},
   "outputs": [],
   "source": []
  },
  {
   "cell_type": "code",
   "execution_count": null,
   "id": "d549d335",
   "metadata": {},
   "outputs": [],
   "source": []
  },
  {
   "cell_type": "code",
   "execution_count": null,
   "id": "c4f2140a",
   "metadata": {},
   "outputs": [],
   "source": []
  },
  {
   "cell_type": "code",
   "execution_count": null,
   "id": "eaea74db",
   "metadata": {},
   "outputs": [],
   "source": []
  },
  {
   "cell_type": "code",
   "execution_count": null,
   "id": "c1f49420",
   "metadata": {},
   "outputs": [],
   "source": []
  },
  {
   "cell_type": "code",
   "execution_count": null,
   "id": "2c31f0bd",
   "metadata": {},
   "outputs": [],
   "source": []
  },
  {
   "cell_type": "code",
   "execution_count": null,
   "id": "1f97eb36",
   "metadata": {},
   "outputs": [],
   "source": []
  },
  {
   "cell_type": "code",
   "execution_count": null,
   "id": "da0c8424",
   "metadata": {},
   "outputs": [],
   "source": []
  },
  {
   "cell_type": "code",
   "execution_count": null,
   "id": "f7f0aeed",
   "metadata": {},
   "outputs": [],
   "source": []
  },
  {
   "cell_type": "code",
   "execution_count": null,
   "id": "8ba68303",
   "metadata": {},
   "outputs": [],
   "source": []
  },
  {
   "cell_type": "code",
   "execution_count": null,
   "id": "ec370b02",
   "metadata": {},
   "outputs": [],
   "source": []
  },
  {
   "cell_type": "code",
   "execution_count": null,
   "id": "a01b5e23",
   "metadata": {},
   "outputs": [],
   "source": []
  }
 ],
 "metadata": {
  "kernelspec": {
   "display_name": "Python 3 (ipykernel)",
   "language": "python",
   "name": "python3"
  },
  "language_info": {
   "codemirror_mode": {
    "name": "ipython",
    "version": 3
   },
   "file_extension": ".py",
   "mimetype": "text/x-python",
   "name": "python",
   "nbconvert_exporter": "python",
   "pygments_lexer": "ipython3",
   "version": "3.9.7"
  }
 },
 "nbformat": 4,
 "nbformat_minor": 5
}
